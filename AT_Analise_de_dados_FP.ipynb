{
  "nbformat": 4,
  "nbformat_minor": 0,
  "metadata": {
    "colab": {
      "name": "AT-Analise de dados_FP.ipynb",
      "provenance": [],
      "collapsed_sections": [],
      "authorship_tag": "ABX9TyM6JSDd+ERkyKqqy0X0oCsI",
      "include_colab_link": true
    },
    "kernelspec": {
      "name": "python3",
      "display_name": "Python 3"
    },
    "language_info": {
      "name": "python"
    }
  },
  "cells": [
    {
      "cell_type": "markdown",
      "metadata": {
        "id": "view-in-github",
        "colab_type": "text"
      },
      "source": [
        "<a href=\"https://colab.research.google.com/github/DREDESIGNN/AT_F-PYTHON/blob/main/AT_Analise_de_dados_FP.ipynb\" target=\"_parent\"><img src=\"https://colab.research.google.com/assets/colab-badge.svg\" alt=\"Open In Colab\"/></a>"
      ]
    },
    {
      "cell_type": "markdown",
      "metadata": {
        "id": "WAbiqGTHXFG8"
      },
      "source": [
        "Aluno: André Luiz Costa de Souza"
      ]
    },
    {
      "cell_type": "markdown",
      "metadata": {
        "id": "liVtkDg9VPOJ"
      },
      "source": [
        "\n",
        "\n",
        "---\n",
        "\n"
      ]
    },
    {
      "cell_type": "markdown",
      "metadata": {
        "id": "SeHcO2kPVT4l"
      },
      "source": [
        "QUESTÃO 1"
      ]
    },
    {
      "cell_type": "code",
      "metadata": {
        "colab": {
          "base_uri": "https://localhost:8080/"
        },
        "id": "SYNVqqWntkvC",
        "outputId": "4a4b203a-dd47-4207-9153-c440bfa8999a"
      },
      "source": [
        "from google.colab import drive\n",
        "drive.mount('/content/drive')"
      ],
      "execution_count": null,
      "outputs": [
        {
          "output_type": "stream",
          "text": [
            "Drive already mounted at /content/drive; to attempt to forcibly remount, call drive.mount(\"/content/drive\", force_remount=True).\n"
          ],
          "name": "stdout"
        }
      ]
    },
    {
      "cell_type": "code",
      "metadata": {
        "id": "-esQJwbyud_A"
      },
      "source": [
        "import os\n",
        "os.chdir(\"/content/drive/My Drive/Colab Notebooks/datasets\")"
      ],
      "execution_count": null,
      "outputs": []
    },
    {
      "cell_type": "code",
      "metadata": {
        "colab": {
          "base_uri": "https://localhost:8080/"
        },
        "id": "Ux_dvWnCiieY",
        "outputId": "fac6e571-1463-4c06-c810-6753639e6852"
      },
      "source": [
        "!ls"
      ],
      "execution_count": null,
      "outputs": [
        {
          "output_type": "stream",
          "text": [
            "auto-miles-per-gallon.csv  Video_Games_Sales_as_at_22_Dec_2016.csv\n",
            "googleplaystore.csv\t   XboxOne_GameSales.csv\n",
            "PS4_GamesSales.csv\n"
          ],
          "name": "stdout"
        }
      ]
    },
    {
      "cell_type": "code",
      "metadata": {
        "colab": {
          "base_uri": "https://localhost:8080/"
        },
        "id": "pR5ybMX92fYr",
        "outputId": "b7835a09-90de-4677-915e-bb6f245df69c"
      },
      "source": [
        "!ls -ls"
      ],
      "execution_count": null,
      "outputs": [
        {
          "output_type": "stream",
          "text": [
            "total 3032\n",
            "  17 -rw------- 1 root root   17294 Jun 25 06:20 auto-miles-per-gallon.csv\n",
            "1329 -rw------- 1 root root 1360155 Jun 25 05:26 googleplaystore.csv\n",
            "  66 -rw------- 1 root root   67304 Jun 24 01:23 PS4_GamesSales.csv\n",
            "1581 -rw------- 1 root root 1618040 Jun 25 06:16 Video_Games_Sales_as_at_22_Dec_2016.csv\n",
            "  40 -rw------- 1 root root   40876 Jun 24 01:24 XboxOne_GameSales.csv\n"
          ],
          "name": "stdout"
        }
      ]
    },
    {
      "cell_type": "code",
      "metadata": {
        "id": "4PejAVM1DPgH"
      },
      "source": [
        "print(f'O número de atributos do dataframe é de {games.shape[1]}')"
      ],
      "execution_count": null,
      "outputs": []
    },
    {
      "cell_type": "code",
      "metadata": {
        "id": "ZHo2OEfwfXu3",
        "colab": {
          "base_uri": "https://localhost:8080/"
        },
        "outputId": "ae9b4882-f911-4724-baa1-4c143bdfd48f"
      },
      "source": [
        "print('R: O atributo nº \n",
        "1 = Mostra o título(nome), \n",
        "2 = plataforma(console), \n",
        "3 = ano de lançamento, \n",
        "4 = genero(estilo), \n",
        "5 = Marca responsavel, pela publicação, do \n",
        "6 ao 9 = quantidades de vendas, em cada País, \n",
        "10 = vendas Globais, \n",
        "11 = pontuação da critica, \n",
        "12 = Contagem de Críticos, \n",
        "13 = pontuaçõa do usuário, \n",
        "14 = Contagem de usuários, \n",
        "15 = desenvolvedor, \n",
        "16 = Classificação.')"
      ],
      "execution_count": null,
      "outputs": [
        {
          "output_type": "stream",
          "text": [
            "R: O atributo nº 1 = Mostra o título(nome), 2 = plataforma(console), 3= ano de lançamento, 4 = genero(estilo), 5 = Marca responsavel, pela publicação, do 6 ao 9 = quantidades de vendas, em cada País, 10 = vendas Globais, 11 = pontuação da critica, 12 = Contagem de Críticos, 13 = pontuaçõa do usuário, 14 = Contagem de usuários, 15 = desenvolvedor, 16 = Classificação.\n"
          ],
          "name": "stdout"
        }
      ]
    },
    {
      "cell_type": "markdown",
      "metadata": {
        "id": "ZfYSKuAlDn4d"
      },
      "source": [
        "R: O atributo nº 1 = Mostra o título(nome), 2 = plataforma(console), 3= ano de lançamento, 4 = genero(estilo), 5 = Marca responsavel, pela publicação, do 6 ao 9 = quantidades de vendas, em cada País, 10 = vendas Globais, 11 = pontuação da critica, 12 = Contagem de Críticos, 13 = pontuaçõa do usuário, 14 = Contagem de usuários, 15 = desenvolvedor, 16 = Classificação.\n",
        "\n"
      ]
    },
    {
      "cell_type": "markdown",
      "metadata": {
        "id": "aAgrdy4cV74x"
      },
      "source": [
        "QUESTÃO 2"
      ]
    },
    {
      "cell_type": "code",
      "metadata": {
        "id": "8xNzZ8wIWFSq"
      },
      "source": [
        "import pandas as pd"
      ],
      "execution_count": null,
      "outputs": []
    },
    {
      "cell_type": "code",
      "metadata": {
        "id": "Eqv3QahqaIpt"
      },
      "source": [
        "games = pd.read_csv('Video_Games_Sales_as_at_22_Dec_2016.csv')"
      ],
      "execution_count": null,
      "outputs": []
    },
    {
      "cell_type": "code",
      "metadata": {
        "colab": {
          "base_uri": "https://localhost:8080/",
          "height": 609
        },
        "id": "zFaFus63aLIf",
        "outputId": "506e3df4-4bb3-4aa4-9b87-40990e2977f5"
      },
      "source": [
        "games"
      ],
      "execution_count": null,
      "outputs": [
        {
          "output_type": "execute_result",
          "data": {
            "text/html": [
              "<div>\n",
              "<style scoped>\n",
              "    .dataframe tbody tr th:only-of-type {\n",
              "        vertical-align: middle;\n",
              "    }\n",
              "\n",
              "    .dataframe tbody tr th {\n",
              "        vertical-align: top;\n",
              "    }\n",
              "\n",
              "    .dataframe thead th {\n",
              "        text-align: right;\n",
              "    }\n",
              "</style>\n",
              "<table border=\"1\" class=\"dataframe\">\n",
              "  <thead>\n",
              "    <tr style=\"text-align: right;\">\n",
              "      <th></th>\n",
              "      <th>Name</th>\n",
              "      <th>Platform</th>\n",
              "      <th>Year_of_Release</th>\n",
              "      <th>Genre</th>\n",
              "      <th>Publisher</th>\n",
              "      <th>NA_Sales</th>\n",
              "      <th>EU_Sales</th>\n",
              "      <th>JP_Sales</th>\n",
              "      <th>Other_Sales</th>\n",
              "      <th>Global_Sales</th>\n",
              "      <th>Critic_Score</th>\n",
              "      <th>Critic_Count</th>\n",
              "      <th>User_Score</th>\n",
              "      <th>User_Count</th>\n",
              "      <th>Developer</th>\n",
              "      <th>Rating</th>\n",
              "    </tr>\n",
              "  </thead>\n",
              "  <tbody>\n",
              "    <tr>\n",
              "      <th>0</th>\n",
              "      <td>Wii Sports</td>\n",
              "      <td>Wii</td>\n",
              "      <td>2006.0</td>\n",
              "      <td>Sports</td>\n",
              "      <td>Nintendo</td>\n",
              "      <td>41.36</td>\n",
              "      <td>28.96</td>\n",
              "      <td>3.77</td>\n",
              "      <td>8.45</td>\n",
              "      <td>82.53</td>\n",
              "      <td>76.0</td>\n",
              "      <td>51.0</td>\n",
              "      <td>8</td>\n",
              "      <td>322.0</td>\n",
              "      <td>Nintendo</td>\n",
              "      <td>E</td>\n",
              "    </tr>\n",
              "    <tr>\n",
              "      <th>1</th>\n",
              "      <td>Super Mario Bros.</td>\n",
              "      <td>NES</td>\n",
              "      <td>1985.0</td>\n",
              "      <td>Platform</td>\n",
              "      <td>Nintendo</td>\n",
              "      <td>29.08</td>\n",
              "      <td>3.58</td>\n",
              "      <td>6.81</td>\n",
              "      <td>0.77</td>\n",
              "      <td>40.24</td>\n",
              "      <td>NaN</td>\n",
              "      <td>NaN</td>\n",
              "      <td>NaN</td>\n",
              "      <td>NaN</td>\n",
              "      <td>NaN</td>\n",
              "      <td>NaN</td>\n",
              "    </tr>\n",
              "    <tr>\n",
              "      <th>2</th>\n",
              "      <td>Mario Kart Wii</td>\n",
              "      <td>Wii</td>\n",
              "      <td>2008.0</td>\n",
              "      <td>Racing</td>\n",
              "      <td>Nintendo</td>\n",
              "      <td>15.68</td>\n",
              "      <td>12.76</td>\n",
              "      <td>3.79</td>\n",
              "      <td>3.29</td>\n",
              "      <td>35.52</td>\n",
              "      <td>82.0</td>\n",
              "      <td>73.0</td>\n",
              "      <td>8.3</td>\n",
              "      <td>709.0</td>\n",
              "      <td>Nintendo</td>\n",
              "      <td>E</td>\n",
              "    </tr>\n",
              "    <tr>\n",
              "      <th>3</th>\n",
              "      <td>Wii Sports Resort</td>\n",
              "      <td>Wii</td>\n",
              "      <td>2009.0</td>\n",
              "      <td>Sports</td>\n",
              "      <td>Nintendo</td>\n",
              "      <td>15.61</td>\n",
              "      <td>10.93</td>\n",
              "      <td>3.28</td>\n",
              "      <td>2.95</td>\n",
              "      <td>32.77</td>\n",
              "      <td>80.0</td>\n",
              "      <td>73.0</td>\n",
              "      <td>8</td>\n",
              "      <td>192.0</td>\n",
              "      <td>Nintendo</td>\n",
              "      <td>E</td>\n",
              "    </tr>\n",
              "    <tr>\n",
              "      <th>4</th>\n",
              "      <td>Pokemon Red/Pokemon Blue</td>\n",
              "      <td>GB</td>\n",
              "      <td>1996.0</td>\n",
              "      <td>Role-Playing</td>\n",
              "      <td>Nintendo</td>\n",
              "      <td>11.27</td>\n",
              "      <td>8.89</td>\n",
              "      <td>10.22</td>\n",
              "      <td>1.00</td>\n",
              "      <td>31.37</td>\n",
              "      <td>NaN</td>\n",
              "      <td>NaN</td>\n",
              "      <td>NaN</td>\n",
              "      <td>NaN</td>\n",
              "      <td>NaN</td>\n",
              "      <td>NaN</td>\n",
              "    </tr>\n",
              "    <tr>\n",
              "      <th>...</th>\n",
              "      <td>...</td>\n",
              "      <td>...</td>\n",
              "      <td>...</td>\n",
              "      <td>...</td>\n",
              "      <td>...</td>\n",
              "      <td>...</td>\n",
              "      <td>...</td>\n",
              "      <td>...</td>\n",
              "      <td>...</td>\n",
              "      <td>...</td>\n",
              "      <td>...</td>\n",
              "      <td>...</td>\n",
              "      <td>...</td>\n",
              "      <td>...</td>\n",
              "      <td>...</td>\n",
              "      <td>...</td>\n",
              "    </tr>\n",
              "    <tr>\n",
              "      <th>16714</th>\n",
              "      <td>Samurai Warriors: Sanada Maru</td>\n",
              "      <td>PS3</td>\n",
              "      <td>2016.0</td>\n",
              "      <td>Action</td>\n",
              "      <td>Tecmo Koei</td>\n",
              "      <td>0.00</td>\n",
              "      <td>0.00</td>\n",
              "      <td>0.01</td>\n",
              "      <td>0.00</td>\n",
              "      <td>0.01</td>\n",
              "      <td>NaN</td>\n",
              "      <td>NaN</td>\n",
              "      <td>NaN</td>\n",
              "      <td>NaN</td>\n",
              "      <td>NaN</td>\n",
              "      <td>NaN</td>\n",
              "    </tr>\n",
              "    <tr>\n",
              "      <th>16715</th>\n",
              "      <td>LMA Manager 2007</td>\n",
              "      <td>X360</td>\n",
              "      <td>2006.0</td>\n",
              "      <td>Sports</td>\n",
              "      <td>Codemasters</td>\n",
              "      <td>0.00</td>\n",
              "      <td>0.01</td>\n",
              "      <td>0.00</td>\n",
              "      <td>0.00</td>\n",
              "      <td>0.01</td>\n",
              "      <td>NaN</td>\n",
              "      <td>NaN</td>\n",
              "      <td>NaN</td>\n",
              "      <td>NaN</td>\n",
              "      <td>NaN</td>\n",
              "      <td>NaN</td>\n",
              "    </tr>\n",
              "    <tr>\n",
              "      <th>16716</th>\n",
              "      <td>Haitaka no Psychedelica</td>\n",
              "      <td>PSV</td>\n",
              "      <td>2016.0</td>\n",
              "      <td>Adventure</td>\n",
              "      <td>Idea Factory</td>\n",
              "      <td>0.00</td>\n",
              "      <td>0.00</td>\n",
              "      <td>0.01</td>\n",
              "      <td>0.00</td>\n",
              "      <td>0.01</td>\n",
              "      <td>NaN</td>\n",
              "      <td>NaN</td>\n",
              "      <td>NaN</td>\n",
              "      <td>NaN</td>\n",
              "      <td>NaN</td>\n",
              "      <td>NaN</td>\n",
              "    </tr>\n",
              "    <tr>\n",
              "      <th>16717</th>\n",
              "      <td>Spirits &amp; Spells</td>\n",
              "      <td>GBA</td>\n",
              "      <td>2003.0</td>\n",
              "      <td>Platform</td>\n",
              "      <td>Wanadoo</td>\n",
              "      <td>0.01</td>\n",
              "      <td>0.00</td>\n",
              "      <td>0.00</td>\n",
              "      <td>0.00</td>\n",
              "      <td>0.01</td>\n",
              "      <td>NaN</td>\n",
              "      <td>NaN</td>\n",
              "      <td>NaN</td>\n",
              "      <td>NaN</td>\n",
              "      <td>NaN</td>\n",
              "      <td>NaN</td>\n",
              "    </tr>\n",
              "    <tr>\n",
              "      <th>16718</th>\n",
              "      <td>Winning Post 8 2016</td>\n",
              "      <td>PSV</td>\n",
              "      <td>2016.0</td>\n",
              "      <td>Simulation</td>\n",
              "      <td>Tecmo Koei</td>\n",
              "      <td>0.00</td>\n",
              "      <td>0.00</td>\n",
              "      <td>0.01</td>\n",
              "      <td>0.00</td>\n",
              "      <td>0.01</td>\n",
              "      <td>NaN</td>\n",
              "      <td>NaN</td>\n",
              "      <td>NaN</td>\n",
              "      <td>NaN</td>\n",
              "      <td>NaN</td>\n",
              "      <td>NaN</td>\n",
              "    </tr>\n",
              "  </tbody>\n",
              "</table>\n",
              "<p>16719 rows × 16 columns</p>\n",
              "</div>"
            ],
            "text/plain": [
              "                                Name Platform  ...  Developer Rating\n",
              "0                         Wii Sports      Wii  ...   Nintendo      E\n",
              "1                  Super Mario Bros.      NES  ...        NaN    NaN\n",
              "2                     Mario Kart Wii      Wii  ...   Nintendo      E\n",
              "3                  Wii Sports Resort      Wii  ...   Nintendo      E\n",
              "4           Pokemon Red/Pokemon Blue       GB  ...        NaN    NaN\n",
              "...                              ...      ...  ...        ...    ...\n",
              "16714  Samurai Warriors: Sanada Maru      PS3  ...        NaN    NaN\n",
              "16715               LMA Manager 2007     X360  ...        NaN    NaN\n",
              "16716        Haitaka no Psychedelica      PSV  ...        NaN    NaN\n",
              "16717               Spirits & Spells      GBA  ...        NaN    NaN\n",
              "16718            Winning Post 8 2016      PSV  ...        NaN    NaN\n",
              "\n",
              "[16719 rows x 16 columns]"
            ]
          },
          "metadata": {
            "tags": []
          },
          "execution_count": 34
        }
      ]
    },
    {
      "cell_type": "code",
      "metadata": {
        "colab": {
          "base_uri": "https://localhost:8080/"
        },
        "id": "9cCvLAjbBrqV",
        "outputId": "e8a9a464-4920-48e8-f94d-aaba12d875b6"
      },
      "source": [
        "print(f'O número de games existentes é de {games.shape[0]}')\n",
        "print(f'O número de atributos do dataframe é de {games.shape[1]}')"
      ],
      "execution_count": null,
      "outputs": [
        {
          "output_type": "stream",
          "text": [
            "O número de games existentes é de 16719\n",
            "O número de atributos do dataframe é de 16\n"
          ],
          "name": "stdout"
        }
      ]
    },
    {
      "cell_type": "markdown",
      "metadata": {
        "id": "K4YkD_THWGD2"
      },
      "source": [
        "QUESTÃO 3"
      ]
    },
    {
      "cell_type": "code",
      "metadata": {
        "colab": {
          "base_uri": "https://localhost:8080/"
        },
        "id": "bM_BVBfqWS8Z",
        "outputId": "c0f9cbbe-01ac-4457-ff9e-3cce18457c55"
      },
      "source": [
        "games.info()"
      ],
      "execution_count": null,
      "outputs": [
        {
          "output_type": "stream",
          "text": [
            "<class 'pandas.core.frame.DataFrame'>\n",
            "RangeIndex: 16719 entries, 0 to 16718\n",
            "Data columns (total 16 columns):\n",
            " #   Column           Non-Null Count  Dtype  \n",
            "---  ------           --------------  -----  \n",
            " 0   Name             16717 non-null  object \n",
            " 1   Platform         16719 non-null  object \n",
            " 2   Year_of_Release  16450 non-null  float64\n",
            " 3   Genre            16717 non-null  object \n",
            " 4   Publisher        16665 non-null  object \n",
            " 5   NA_Sales         16719 non-null  float64\n",
            " 6   EU_Sales         16719 non-null  float64\n",
            " 7   JP_Sales         16719 non-null  float64\n",
            " 8   Other_Sales      16719 non-null  float64\n",
            " 9   Global_Sales     16719 non-null  float64\n",
            " 10  Critic_Score     8137 non-null   float64\n",
            " 11  Critic_Count     8137 non-null   float64\n",
            " 12  User_Score       10015 non-null  object \n",
            " 13  User_Count       7590 non-null   float64\n",
            " 14  Developer        10096 non-null  object \n",
            " 15  Rating           9950 non-null   object \n",
            "dtypes: float64(9), object(7)\n",
            "memory usage: 2.0+ MB\n"
          ],
          "name": "stdout"
        }
      ]
    },
    {
      "cell_type": "markdown",
      "metadata": {
        "id": "EQ8AIUwrWT46"
      },
      "source": [
        "QUESTÃO 4"
      ]
    },
    {
      "cell_type": "code",
      "metadata": {
        "id": "iRvigEkNWV7V"
      },
      "source": [
        "serie_Sales = pd.read_csv('Video_Games_Sales_as_at_22_Dec_2016.csv', usecols=['Name', 'NA_Sales'], index_col=['Name'], squeeze=True)"
      ],
      "execution_count": null,
      "outputs": []
    },
    {
      "cell_type": "code",
      "metadata": {
        "colab": {
          "base_uri": "https://localhost:8080/"
        },
        "id": "GJEe96B0Ruqx",
        "outputId": "e83e2548-6692-4dd2-9aa4-96f5b0c6f050"
      },
      "source": [
        "serie_Sales"
      ],
      "execution_count": null,
      "outputs": [
        {
          "output_type": "execute_result",
          "data": {
            "text/plain": [
              "Name\n",
              "Wii Sports                       41.36\n",
              "Super Mario Bros.                29.08\n",
              "Mario Kart Wii                   15.68\n",
              "Wii Sports Resort                15.61\n",
              "Pokemon Red/Pokemon Blue         11.27\n",
              "                                 ...  \n",
              "Samurai Warriors: Sanada Maru     0.00\n",
              "LMA Manager 2007                  0.00\n",
              "Haitaka no Psychedelica           0.00\n",
              "Spirits & Spells                  0.01\n",
              "Winning Post 8 2016               0.00\n",
              "Name: NA_Sales, Length: 16719, dtype: float64"
            ]
          },
          "metadata": {
            "tags": []
          },
          "execution_count": 62
        }
      ]
    },
    {
      "cell_type": "code",
      "metadata": {
        "id": "W624MmvxRRri"
      },
      "source": [
        "serie_Sales = pd.read_csv('Video_Games_Sales_as_at_22_Dec_2016.csv', usecols=['Name', 'EU_Sales'], index_col=['Name'], squeeze=True)"
      ],
      "execution_count": null,
      "outputs": []
    },
    {
      "cell_type": "code",
      "metadata": {
        "colab": {
          "base_uri": "https://localhost:8080/"
        },
        "id": "h3B9QVoRR0dV",
        "outputId": "6b70b111-145a-47c2-edac-ddc659cbbdc5"
      },
      "source": [
        "serie_Sales"
      ],
      "execution_count": null,
      "outputs": [
        {
          "output_type": "execute_result",
          "data": {
            "text/plain": [
              "Name\n",
              "Wii Sports                       28.96\n",
              "Super Mario Bros.                 3.58\n",
              "Mario Kart Wii                   12.76\n",
              "Wii Sports Resort                10.93\n",
              "Pokemon Red/Pokemon Blue          8.89\n",
              "                                 ...  \n",
              "Samurai Warriors: Sanada Maru     0.00\n",
              "LMA Manager 2007                  0.01\n",
              "Haitaka no Psychedelica           0.00\n",
              "Spirits & Spells                  0.00\n",
              "Winning Post 8 2016               0.00\n",
              "Name: EU_Sales, Length: 16719, dtype: float64"
            ]
          },
          "metadata": {
            "tags": []
          },
          "execution_count": 56
        }
      ]
    },
    {
      "cell_type": "code",
      "metadata": {
        "id": "kvfux2buRdro"
      },
      "source": [
        "serie_Sales = pd.read_csv('Video_Games_Sales_as_at_22_Dec_2016.csv', usecols=['Name', 'JP_Sales'], index_col=['Name'], squeeze=True)"
      ],
      "execution_count": null,
      "outputs": []
    },
    {
      "cell_type": "code",
      "metadata": {
        "id": "Kucezu_edi3R",
        "colab": {
          "base_uri": "https://localhost:8080/"
        },
        "outputId": "88e1014b-9610-4229-e36f-e246ea5b4fc8"
      },
      "source": [
        "serie_Sales"
      ],
      "execution_count": null,
      "outputs": [
        {
          "output_type": "execute_result",
          "data": {
            "text/plain": [
              "Name\n",
              "Wii Sports                        3.77\n",
              "Super Mario Bros.                 6.81\n",
              "Mario Kart Wii                    3.79\n",
              "Wii Sports Resort                 3.28\n",
              "Pokemon Red/Pokemon Blue         10.22\n",
              "                                 ...  \n",
              "Samurai Warriors: Sanada Maru     0.01\n",
              "LMA Manager 2007                  0.00\n",
              "Haitaka no Psychedelica           0.01\n",
              "Spirits & Spells                  0.00\n",
              "Winning Post 8 2016               0.01\n",
              "Name: JP_Sales, Length: 16719, dtype: float64"
            ]
          },
          "metadata": {
            "tags": []
          },
          "execution_count": 36
        }
      ]
    },
    {
      "cell_type": "markdown",
      "metadata": {
        "id": "NVq-0a7fWYEI"
      },
      "source": [
        "QUESTÃO 5"
      ]
    },
    {
      "cell_type": "code",
      "metadata": {
        "id": "shDR71jatYSJ"
      },
      "source": [
        ""
      ],
      "execution_count": null,
      "outputs": []
    },
    {
      "cell_type": "markdown",
      "metadata": {
        "id": "mnvO12JkWb_q"
      },
      "source": [
        "QUESTÃO 6"
      ]
    },
    {
      "cell_type": "code",
      "metadata": {
        "id": "d_diHdyxWd7c"
      },
      "source": [
        ""
      ],
      "execution_count": null,
      "outputs": []
    },
    {
      "cell_type": "markdown",
      "metadata": {
        "id": "_qJ0WdzhWe2g"
      },
      "source": [
        "QUESTÃO 7"
      ]
    },
    {
      "cell_type": "code",
      "metadata": {
        "id": "o4qUyF9RsdMv"
      },
      "source": [
        ""
      ],
      "execution_count": null,
      "outputs": []
    },
    {
      "cell_type": "markdown",
      "metadata": {
        "id": "9TWlIsROWhJh"
      },
      "source": [
        "QUESTÃO 8"
      ]
    },
    {
      "cell_type": "code",
      "metadata": {
        "id": "-R0GSN6YshRD"
      },
      "source": [
        ""
      ],
      "execution_count": null,
      "outputs": []
    },
    {
      "cell_type": "markdown",
      "metadata": {
        "id": "znQDhza0WoJk"
      },
      "source": [
        "QUESTÃO 9"
      ]
    },
    {
      "cell_type": "code",
      "metadata": {
        "id": "VHSEixkEsjin"
      },
      "source": [
        ""
      ],
      "execution_count": null,
      "outputs": []
    },
    {
      "cell_type": "markdown",
      "metadata": {
        "id": "siCeMi00Wsqd"
      },
      "source": [
        "QUESTÃO 10"
      ]
    },
    {
      "cell_type": "code",
      "metadata": {
        "id": "UMQprxOWskPn"
      },
      "source": [
        ""
      ],
      "execution_count": null,
      "outputs": []
    },
    {
      "cell_type": "markdown",
      "metadata": {
        "id": "Oat3nn9lWurG"
      },
      "source": [
        "QUESTÃO 11"
      ]
    },
    {
      "cell_type": "code",
      "metadata": {
        "id": "qhv3Q-7ts5Bb"
      },
      "source": [
        ""
      ],
      "execution_count": null,
      "outputs": []
    },
    {
      "cell_type": "markdown",
      "metadata": {
        "id": "OXcpEGJoWwow"
      },
      "source": [
        "QUESTÃO 12"
      ]
    },
    {
      "cell_type": "code",
      "metadata": {
        "id": "P3MB6qa6tHLE"
      },
      "source": [
        ""
      ],
      "execution_count": null,
      "outputs": []
    },
    {
      "cell_type": "markdown",
      "metadata": {
        "id": "5xrm609cW0Ri"
      },
      "source": [
        "QUESTÃO 13"
      ]
    },
    {
      "cell_type": "code",
      "metadata": {
        "id": "CoxnAX5stIAM"
      },
      "source": [
        ""
      ],
      "execution_count": null,
      "outputs": []
    },
    {
      "cell_type": "markdown",
      "metadata": {
        "id": "KKug4TEiW3Mm"
      },
      "source": [
        "QUESTÃO 14"
      ]
    },
    {
      "cell_type": "code",
      "metadata": {
        "id": "tzIM8VJ_tJwZ"
      },
      "source": [
        ""
      ],
      "execution_count": null,
      "outputs": []
    },
    {
      "cell_type": "markdown",
      "metadata": {
        "id": "0Jry4g9zW7nX"
      },
      "source": [
        "QUESTÃO 15"
      ]
    },
    {
      "cell_type": "code",
      "metadata": {
        "id": "Fop-TW5htKZf"
      },
      "source": [
        ""
      ],
      "execution_count": null,
      "outputs": []
    },
    {
      "cell_type": "markdown",
      "metadata": {
        "id": "iVdFE_7aW-7M"
      },
      "source": [
        "QUESTÃO 16"
      ]
    },
    {
      "cell_type": "code",
      "metadata": {
        "id": "eXbVUo3ntL2I"
      },
      "source": [
        ""
      ],
      "execution_count": null,
      "outputs": []
    }
  ]
}