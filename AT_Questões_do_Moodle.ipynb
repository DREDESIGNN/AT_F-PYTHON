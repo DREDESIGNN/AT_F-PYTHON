{
  "nbformat": 4,
  "nbformat_minor": 0,
  "metadata": {
    "colab": {
      "name": "AT-Questões do Moodle.ipynb",
      "provenance": [],
      "collapsed_sections": [],
      "authorship_tag": "ABX9TyOnEJ1D5ebBpuzPY5+9Ua17",
      "include_colab_link": true
    },
    "kernelspec": {
      "name": "python3",
      "display_name": "Python 3"
    },
    "language_info": {
      "name": "python"
    }
  },
  "cells": [
    {
      "cell_type": "markdown",
      "metadata": {
        "id": "view-in-github",
        "colab_type": "text"
      },
      "source": [
        "<a href=\"https://colab.research.google.com/github/DREDESIGNN/AT_F-PYTHON/blob/main/AT_Quest%C3%B5es_do_Moodle.ipynb\" target=\"_parent\"><img src=\"https://colab.research.google.com/assets/colab-badge.svg\" alt=\"Open In Colab\"/></a>"
      ]
    },
    {
      "cell_type": "markdown",
      "metadata": {
        "id": "5Mi2ee7WFnv_"
      },
      "source": [
        "Aluno: André Luiz Costa de Souza"
      ]
    },
    {
      "cell_type": "markdown",
      "metadata": {
        "id": "pMJQvhWbF8MF"
      },
      "source": [
        "__________________________________________________________________________________________________________________________________________________________"
      ]
    },
    {
      "cell_type": "markdown",
      "metadata": {
        "id": "RbmBAl6sGFcy"
      },
      "source": [
        "Questões do Moodle"
      ]
    },
    {
      "cell_type": "markdown",
      "metadata": {
        "id": "VhAvEYZRGM66"
      },
      "source": [
        "Questão-1"
      ]
    },
    {
      "cell_type": "code",
      "metadata": {
        "colab": {
          "base_uri": "https://localhost:8080/"
        },
        "id": "QrfkT7joDfpR",
        "outputId": "ac10ca0b-0771-484e-bf56-2e7276ada389"
      },
      "source": [
        "tupla = (2000, 598, 51)\n",
        "function = sorted(tupla)\n",
        "print(function)"
      ],
      "execution_count": null,
      "outputs": [
        {
          "output_type": "stream",
          "text": [
            "[51, 598, 2000]\n"
          ],
          "name": "stdout"
        }
      ]
    },
    {
      "cell_type": "markdown",
      "metadata": {
        "id": "E2KCm_kcK3Ig"
      },
      "source": [
        "Questão-2"
      ]
    },
    {
      "cell_type": "code",
      "metadata": {
        "colab": {
          "base_uri": "https://localhost:8080/"
        },
        "id": "CkeCOk77K7r4",
        "outputId": "857944c5-10d2-4266-be7d-3012a6d9507f"
      },
      "source": [
        "DATA = int(input(\"Digite o valor de n: \"))\n",
        "result = 0\n",
        "for counter in range(0, DATA+1, 2):\n",
        "    result = result + counter\n",
        "print(\"A soma é:\", result)"
      ],
      "execution_count": null,
      "outputs": [
        {
          "output_type": "stream",
          "text": [
            "Digite o valor de n: 6\n",
            "A soma é: 12\n"
          ],
          "name": "stdout"
        }
      ]
    },
    {
      "cell_type": "markdown",
      "metadata": {
        "id": "j67y-ESFLipI"
      },
      "source": [
        "  Questão-3"
      ]
    },
    {
      "cell_type": "code",
      "metadata": {
        "colab": {
          "base_uri": "https://localhost:8080/"
        },
        "id": "rM0SQNqTLn_u",
        "outputId": "1bbfe547-7cba-4e49-b749-2bc76ab98f39"
      },
      "source": [
        "def potency():\n",
        "    BASE = int(input(\"Entre com a base: \"))\n",
        "    EXPONENT = int(input(\"Entre com o expoente: \"))\n",
        "    if BASE == 0 :\n",
        "        print(\"\\nDigite um numero diferente de zero\\n\")\n",
        "    elif EXPONENT == 0:\n",
        "        print(\"\\nO resultado da potencia com expoente zero é sempre 1\\n\")\n",
        "    else:        \n",
        "        counter = 0\n",
        "        result = 1\n",
        "        while counter < EXPONENT:\n",
        "            result = result * BASE\n",
        "            counter = counter + 1\n",
        "        return print( BASE, \"elevado a\",  EXPONENT, \"é igual a\", result)\n",
        "\n",
        "def main():\n",
        "    potency()\n",
        "if __name__ == '__main__':\n",
        "    main()"
      ],
      "execution_count": null,
      "outputs": [
        {
          "output_type": "stream",
          "text": [
            "Entre com a base: 6\n",
            "Entre com o expoente: 2\n",
            "6 elevado a 2 é igual a 36\n"
          ],
          "name": "stdout"
        }
      ]
    },
    {
      "cell_type": "markdown",
      "metadata": {
        "id": "i3WAP74uMHT5"
      },
      "source": [
        "Questão-4"
      ]
    },
    {
      "cell_type": "code",
      "metadata": {
        "colab": {
          "base_uri": "https://localhost:8080/"
        },
        "id": "RAKuSWZ1MM-M",
        "outputId": "82d3b0f3-5fed-4179-df17-61245216d43b"
      },
      "source": [
        "vector = [4, 3, 5, 1, 2]\n",
        "vector.reverse()\n",
        "print(vector)"
      ],
      "execution_count": null,
      "outputs": [
        {
          "output_type": "stream",
          "text": [
            "[2, 1, 5, 3, 4]\n"
          ],
          "name": "stdout"
        }
      ]
    },
    {
      "cell_type": "markdown",
      "metadata": {
        "id": "IEW-ryNONP0R"
      },
      "source": [
        "Questão-6"
      ]
    },
    {
      "cell_type": "code",
      "metadata": {
        "colab": {
          "base_uri": "https://localhost:8080/"
        },
        "id": "bCmqDVGkNS3Z",
        "outputId": "f97c163d-aed7-4432-b95e-f68ddfc4f9ae"
      },
      "source": [
        "tupla = (0, 1, 2, 3, 4, 5, 6, 7, 8, 9, 10, 11)\n",
        "listImpar = []\n",
        "def par():\n",
        "    tuplaPar = ( )\n",
        "    for i in range(0, len(tupla), 2):\n",
        "        tuplaPar+=(i,)\n",
        "    return(tuplaPar)\n",
        "def impar():\n",
        "    for counter in range(1, len(tupla), 2):\n",
        "        listImpar.append(counter)\n",
        "impar()\n",
        "print(\"Lista com os numeros impares: \",listImpar)\n",
        "print(\"Tupla com os números Pares: \",par())"
      ],
      "execution_count": null,
      "outputs": [
        {
          "output_type": "stream",
          "text": [
            "Lista com os numeros impares:  [1, 3, 5, 7, 9, 11]\n",
            "Tupla com os números Pares:  (0, 2, 4, 6, 8, 10)\n"
          ],
          "name": "stdout"
        }
      ]
    }
  ]
}